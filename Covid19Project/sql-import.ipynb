{
 "cells": [
  {
   "cell_type": "code",
   "execution_count": null,
   "metadata": {},
   "outputs": [],
   "source": [
    "# TODO Clean and compress."
   ]
  },
  {
   "cell_type": "code",
   "execution_count": 1,
   "metadata": {},
   "outputs": [],
   "source": [
    "import pandas as pd\n",
    "import pyodbc\n",
    "from datetime import date\n",
    "import download_datasets as dd"
   ]
  },
  {
   "cell_type": "code",
   "execution_count": 2,
   "metadata": {},
   "outputs": [
    {
     "name": "stdout",
     "output_type": "stream",
     "text": [
      "Files will be saved in c:\\Users\\tomas\\OneDrive\\Documents\\CODE\\Data Analysis\\SQL Server\\Project Covid.\n",
      "2022-01-24-owid-covid-data.csv save completed.\n"
     ]
    }
   ],
   "source": [
    "dd.csv_fetcher()\n",
    "today = date.today()\n",
    "name = str(today) + \"-owid-covid-data.csv\"\n",
    "df = pd.read_csv(name)"
   ]
  },
  {
   "cell_type": "code",
   "execution_count": 3,
   "metadata": {},
   "outputs": [],
   "source": [
    "df.continent = df.continent.fillna('NULL')\n",
    "rslt_df = df[df.continent != 'NULL']\n",
    "loc_df = rslt_df.drop_duplicates(subset = ['location'])"
   ]
  },
  {
   "cell_type": "code",
   "execution_count": 4,
   "metadata": {},
   "outputs": [],
   "source": [
    "def conection():\n",
    "    conn = pyodbc.connect(\n",
    "        'DRIVER={ODBC Driver 17 for SQL Server}; \\\n",
    "        SERVER=DESKTOP-2KNL3QE; \\\n",
    "        DATABASE=Portfolio_Project_Covid; \\\n",
    "        Trusted_Connection=yes;')\n",
    "    return conn\n",
    "conn = conection()\n",
    "cursor = conn.cursor()"
   ]
  },
  {
   "cell_type": "markdown",
   "metadata": {},
   "source": [
    "Locations"
   ]
  },
  {
   "cell_type": "code",
   "execution_count": 5,
   "metadata": {},
   "outputs": [
    {
     "data": {
      "text/plain": [
       "<pyodbc.Cursor at 0x1432c814f30>"
      ]
     },
     "execution_count": 5,
     "metadata": {},
     "output_type": "execute_result"
    }
   ],
   "source": [
    "cursor.execute(\"DROP TABLE IF EXISTS locations; \\\n",
    "                CREATE TABLE locations \\\n",
    "                (iso_code varchar(255), \\\n",
    "                continent varchar(255), \\\n",
    "                location varchar(255))\")"
   ]
  },
  {
   "cell_type": "code",
   "execution_count": 6,
   "metadata": {},
   "outputs": [],
   "source": [
    "for index, row in loc_df.iterrows():\n",
    "    cursor.execute(\"INSERT INTO dbo.locations([iso_code], [continent], [location]) VALUES(?, ?, ?)\",\n",
    "    row['iso_code'],\n",
    "    row['continent'],\n",
    "    row['location'])\n",
    "conn.commit()"
   ]
  },
  {
   "cell_type": "markdown",
   "metadata": {},
   "source": [
    "Country Data"
   ]
  },
  {
   "cell_type": "code",
   "execution_count": 7,
   "metadata": {},
   "outputs": [
    {
     "data": {
      "text/plain": [
       "<pyodbc.Cursor at 0x1432c814f30>"
      ]
     },
     "execution_count": 7,
     "metadata": {},
     "output_type": "execute_result"
    }
   ],
   "source": [
    "cursor.execute(\"DROP TABLE IF EXISTS country_data; \\\n",
    "                CREATE TABLE country_data \\\n",
    "                (iso_code varchar(255) NOT NULL, \\\n",
    "                population  bigint, \\\n",
    "                population_density float, \\\n",
    "                median_age float, \\\n",
    "                aged_65_older float, \\\n",
    "                aged_70_older float, \\\n",
    "                gdp_per_capita float, \\\n",
    "                extreme_poverty float, \\\n",
    "                cardiovasc_death_rate float, \\\n",
    "                diabetes_prevalence float, \\\n",
    "                female_smokers float, \\\n",
    "                male_smokers float, \\\n",
    "                handwashing_facilities float, \\\n",
    "                hospital_beds_per_thousand float, \\\n",
    "                life_expectancy float, \\\n",
    "                human_development_index float)\")"
   ]
  },
  {
   "cell_type": "code",
   "execution_count": 8,
   "metadata": {},
   "outputs": [
    {
     "name": "stderr",
     "output_type": "stream",
     "text": [
      "C:\\Users\\tomas\\anaconda3\\lib\\site-packages\\pandas\\core\\generic.py:5494: SettingWithCopyWarning: \n",
      "A value is trying to be set on a copy of a slice from a DataFrame.\n",
      "Try using .loc[row_indexer,col_indexer] = value instead\n",
      "\n",
      "See the caveats in the documentation: https://pandas.pydata.org/pandas-docs/stable/user_guide/indexing.html#returning-a-view-versus-a-copy\n",
      "  self[name] = value\n"
     ]
    }
   ],
   "source": [
    "loc_df.population = loc_df.population.fillna(0)\n",
    "loc_df.population_density = loc_df.population_density.fillna(0)\n",
    "loc_df.median_age = loc_df.median_age.fillna(0)\n",
    "loc_df.aged_65_older = loc_df.aged_65_older.fillna(0)\n",
    "loc_df.aged_70_older = loc_df.aged_70_older.fillna(0)\n",
    "loc_df.gdp_per_capita = loc_df.gdp_per_capita.fillna(0)\n",
    "loc_df.extreme_poverty = loc_df.extreme_poverty.fillna(0)\n",
    "loc_df.cardiovasc_death_rate = loc_df.cardiovasc_death_rate.fillna(0)\n",
    "loc_df.diabetes_prevalence = loc_df.diabetes_prevalence.fillna(0)\n",
    "loc_df.female_smokers = loc_df.female_smokers.fillna(0)\n",
    "loc_df.male_smokers = loc_df.male_smokers.fillna(0)\n",
    "loc_df.handwashing_facilities = loc_df.handwashing_facilities.fillna(0)\n",
    "loc_df.hospital_beds_per_thousand = loc_df.hospital_beds_per_thousand.fillna(0)\n",
    "loc_df.life_expectancy = loc_df.life_expectancy.fillna(0)\n",
    "loc_df.human_development_index = loc_df.human_development_index.fillna(0)"
   ]
  },
  {
   "cell_type": "code",
   "execution_count": 9,
   "metadata": {},
   "outputs": [],
   "source": [
    "for index, row in loc_df.iterrows():\n",
    "    cursor.execute(\"INSERT INTO dbo.country_data([iso_code], \\\n",
    "                        [population], \\\n",
    "                        [population_density], \\\n",
    "                        [median_age], \\\n",
    "                        [aged_65_older], \\\n",
    "                        [aged_70_older], \\\n",
    "                        [gdp_per_capita], \\\n",
    "                        [extreme_poverty], \\\n",
    "                        [cardiovasc_death_rate], \\\n",
    "                        [diabetes_prevalence], \\\n",
    "                        [female_smokers], \\\n",
    "                        [male_smokers], \\\n",
    "                        [handwashing_facilities], \\\n",
    "                        [hospital_beds_per_thousand], \\\n",
    "                        [life_expectancy], \\\n",
    "                        [human_development_index]) \\\n",
    "                    VALUES(?, ?, ?, ?, ?, ?, ?, ?, ?, ?, ?, ?, ?, ?, ?, ?)\",\n",
    "                    row['iso_code'],\n",
    "                    row['population'],\n",
    "                    row['population_density'],\n",
    "                    row['median_age'],\n",
    "                    row['aged_65_older'],\n",
    "                    row['aged_70_older'],\n",
    "                    row['gdp_per_capita'],\n",
    "                    row['extreme_poverty'],\n",
    "                    row['cardiovasc_death_rate'],\n",
    "                    row['diabetes_prevalence'],\n",
    "                    row['female_smokers'],\n",
    "                    row['male_smokers'],\n",
    "                    row['handwashing_facilities'],\n",
    "                    row['hospital_beds_per_thousand'],\n",
    "                    row['life_expectancy'],\n",
    "                    row['human_development_index'])\n",
    "\n",
    "conn.commit()"
   ]
  },
  {
   "cell_type": "markdown",
   "metadata": {},
   "source": [
    "Mortality"
   ]
  },
  {
   "cell_type": "code",
   "execution_count": 10,
   "metadata": {},
   "outputs": [
    {
     "data": {
      "text/plain": [
       "<pyodbc.Cursor at 0x1432c814f30>"
      ]
     },
     "execution_count": 10,
     "metadata": {},
     "output_type": "execute_result"
    }
   ],
   "source": [
    "cursor.execute(\"DROP TABLE IF EXISTS mortality; \\\n",
    "                CREATE TABLE mortality \\\n",
    "                (iso_code varchar(255), \\\n",
    "                date date, \\\n",
    "                excess_mortality float, \\\n",
    "                excess_mortality_cumulative float, \\\n",
    "                excess_mortality_cumulative_absolute float, \\\n",
    "                excess_mortality_cumulative_per_million float)\")"
   ]
  },
  {
   "cell_type": "code",
   "execution_count": 11,
   "metadata": {},
   "outputs": [],
   "source": [
    "mort_df = df[df['excess_mortality'].notna()]"
   ]
  },
  {
   "cell_type": "code",
   "execution_count": 12,
   "metadata": {},
   "outputs": [],
   "source": [
    "for index, row in mort_df.iterrows():\n",
    "    cursor.execute(\"INSERT INTO dbo.mortality(\\\n",
    "                        [iso_code], \\\n",
    "                        [date], \\\n",
    "                        [excess_mortality], \\\n",
    "                        [excess_mortality_cumulative], \\\n",
    "                        [excess_mortality_cumulative_absolute], \\\n",
    "                        [excess_mortality_cumulative_per_million]) \\\n",
    "                    VALUES(?, ?, ?, ?, ?, ?)\",\n",
    "                    row['iso_code'],\n",
    "                    row['date'],\n",
    "                    row['excess_mortality'],\n",
    "                    row['excess_mortality_cumulative'],\n",
    "                    row['excess_mortality_cumulative_absolute'],\n",
    "                    row['excess_mortality_cumulative_per_million'])\n",
    "conn.commit()"
   ]
  },
  {
   "cell_type": "markdown",
   "metadata": {},
   "source": [
    "Covid Timeline"
   ]
  },
  {
   "cell_type": "code",
   "execution_count": 13,
   "metadata": {},
   "outputs": [
    {
     "data": {
      "text/plain": [
       "<pyodbc.Cursor at 0x1432c814f30>"
      ]
     },
     "execution_count": 13,
     "metadata": {},
     "output_type": "execute_result"
    }
   ],
   "source": [
    "cursor.execute(\"DROP TABLE IF EXISTS covid_timeline; \\\n",
    "                CREATE TABLE covid_timeline \\\n",
    "                (iso_code varchar(255), \\\n",
    "                date date, \\\n",
    "                total_cases float, \\\n",
    "                new_cases float, \\\n",
    "                total_deaths float, \\\n",
    "                new_deaths float, \\\n",
    "                icu_patients float, \\\n",
    "                hosp_patients float, \\\n",
    "                total_tests float, \\\n",
    "                new_tests float, \\\n",
    "                tests_units varchar(255), \\\n",
    "                total_vaccinations float, \\\n",
    "                people_vaccinated float, \\\n",
    "                people_fully_vaccinated float, \\\n",
    "                total_boosters float, \\\n",
    "                new_vaccinations float, \\\n",
    "                stringency_index float)\")"
   ]
  },
  {
   "cell_type": "code",
   "execution_count": 14,
   "metadata": {},
   "outputs": [],
   "source": [
    "rslt_df.total_cases = rslt_df.total_cases.fillna(0)\n",
    "rslt_df.new_cases = rslt_df.new_cases.fillna(0)\n",
    "rslt_df.total_deaths = rslt_df.total_deaths.fillna(0)\n",
    "rslt_df.new_deaths = rslt_df.new_deaths.fillna(0)\n",
    "rslt_df.icu_patients = rslt_df.icu_patients.fillna(0)\n",
    "rslt_df.hosp_patients = rslt_df.hosp_patients.fillna(0)\n",
    "rslt_df.total_tests = rslt_df.total_tests.fillna(0)\n",
    "rslt_df.new_tests = rslt_df.new_tests.fillna(0)\n",
    "rslt_df.tests_units = rslt_df.tests_units.fillna('NULL')\n",
    "rslt_df.total_vaccinations = rslt_df.total_vaccinations.fillna(0)\n",
    "rslt_df.people_vaccinated = rslt_df.people_vaccinated.fillna(0)\n",
    "rslt_df.people_fully_vaccinated = rslt_df.people_fully_vaccinated.fillna(0)\n",
    "rslt_df.total_boosters = rslt_df.total_boosters.fillna(0)\n",
    "rslt_df.new_vaccinations = rslt_df.new_vaccinations.fillna(0)\n",
    "rslt_df.stringency_index = rslt_df.stringency_index.fillna(0)"
   ]
  },
  {
   "cell_type": "code",
   "execution_count": 15,
   "metadata": {},
   "outputs": [],
   "source": [
    "for index, row in rslt_df.iterrows():\n",
    "    cursor.execute(\"INSERT INTO dbo.covid_timeline(\\\n",
    "                        [iso_code], \\\n",
    "                        [date], \\\n",
    "                        [total_cases], \\\n",
    "                        [new_cases], \\\n",
    "                        [total_deaths], \\\n",
    "                        [new_deaths], \\\n",
    "                        [icu_patients], \\\n",
    "                        [hosp_patients], \\\n",
    "                        [total_tests], \\\n",
    "                        [new_tests], \\\n",
    "                        [tests_units], \\\n",
    "                        [total_vaccinations], \\\n",
    "                        [people_vaccinated], \\\n",
    "                        [people_fully_vaccinated], \\\n",
    "                        [total_boosters], \\\n",
    "                        [new_vaccinations], \\\n",
    "                        [stringency_index]) \\\n",
    "                    VALUES(?, ?, ?, ?, ?, ?, ?, ?, ?, ?, ?, ?, ?, ?, ?, ?, ?)\",\n",
    "                    row['iso_code'],\n",
    "                    row['date'],\n",
    "                    row['total_cases'],\n",
    "                    row['new_cases'],\n",
    "                    row['total_deaths'],\n",
    "                    row['new_deaths'],\n",
    "                    row['icu_patients'],\n",
    "                    row['hosp_patients'],\n",
    "                    row['total_tests'],\n",
    "                    row['new_tests'],\n",
    "                    row['tests_units'],\n",
    "                    row['total_vaccinations'],\n",
    "                    row['people_vaccinated'],\n",
    "                    row['people_fully_vaccinated'],\n",
    "                    row['total_boosters'],\n",
    "                    row['new_vaccinations'],\n",
    "                    row['stringency_index'])\n",
    "conn.commit()"
   ]
  },
  {
   "cell_type": "code",
   "execution_count": 16,
   "metadata": {},
   "outputs": [],
   "source": [
    "# a = ['iso_code','date','total_cases','new_cases','total_deaths','new_deaths','icu_patients','hosp_patients','total_tests','new_tests','tests_units','total_vaccinations','people_vaccinated','people_fully_vaccinated','total_boosters','new_vaccinations','stringency_index',]\n",
    "# for i in a:\n",
    "#     print('rslt_df.' + i + ' = rslt_df.' + i + '.fillna(0)')\n"
   ]
  },
  {
   "cell_type": "code",
   "execution_count": 17,
   "metadata": {},
   "outputs": [],
   "source": [
    "cursor.close()\n",
    "conn.close()"
   ]
  },
  {
   "cell_type": "code",
   "execution_count": 18,
   "metadata": {},
   "outputs": [],
   "source": [
    "# pd.set_option('display.max_columns', 70)\n",
    "# df.head()"
   ]
  }
 ],
 "metadata": {
  "interpreter": {
   "hash": "4d333c3e79956f6cfdda154d497169890c9e1b3b648807dd58683480f0849f8e"
  },
  "kernelspec": {
   "display_name": "Python 3.8.8 64-bit ('base': conda)",
   "name": "python3"
  },
  "language_info": {
   "codemirror_mode": {
    "name": "ipython",
    "version": 3
   },
   "file_extension": ".py",
   "mimetype": "text/x-python",
   "name": "python",
   "nbconvert_exporter": "python",
   "pygments_lexer": "ipython3",
   "version": "3.8.8"
  },
  "orig_nbformat": 4
 },
 "nbformat": 4,
 "nbformat_minor": 2
}
